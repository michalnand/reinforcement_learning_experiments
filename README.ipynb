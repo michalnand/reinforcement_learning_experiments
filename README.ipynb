{
 "cells": [
  {
   "attachments": {},
   "cell_type": "markdown",
   "metadata": {},
   "source": [
    "hard exploration experiments, using self supervised models distillation "
   ]
  },
  {
   "attachments": {},
   "cell_type": "markdown",
   "metadata": {},
   "source": [
    "![model_ppo](doc/diagrams/cnd-cnd.png \"self supervised distillation\")"
   ]
  },
  {
   "attachments": {},
   "cell_type": "markdown",
   "metadata": {},
   "source": [
    "models uses 4x96x96 input (4 grayscale frames stacked) "
   ]
  },
  {
   "attachments": {},
   "cell_type": "markdown",
   "metadata": {},
   "source": [
    "![model_ppo](doc/diagrams/cnd-ppo_model.png \"ppo model architecture\")"
   ]
  },
  {
   "attachments": {},
   "cell_type": "markdown",
   "metadata": {},
   "source": [
    "# montezuma results\n",
    "**experiments/atari_hard/montezuma_revenge/**\n",
    "\n",
    "\n",
    "| name          | group         | description   | state     |   result  | detail |\n",
    "| ------------- | ------------- | ------------- | --------- | --------- | -----|\n",
    "| ppo_cndsa_0_* | augmentations testing              | vicreg loss, 0.5, aug [\"noise\"]             |  done 3 |  N/A | [link](./results/atari_hard/montezuma_revenge/cndsa_0_1_2_notes.md)\n",
    "| ppo_cndsa_1_* | augmentations testing              | vicreg loss, 0.5, aug [\"random_tiles\", \"noise\"]             |  done 3 |  N/A | [link](./results/atari_hard/montezuma_revenge/cndsa_0_1_2_notes.md) |\n",
    "| ppo_cndsa_2_* | augmentations testing              | vicreg loss, 0.5, aug [\"pixelate\", \"random_tiles\", \"noise\"]             |  done 3 |  N/A | [link](./results/atari_hard/montezuma_revenge/cndsa_0_1_2_notes.md) |\n",
    "| ppo_cndsa_3_* | int reward scaling               | vicreg loss, 0.25, aug [\"pixelate\", \"random_tiles\", \"noise\"]             |  done 3 |  N/A | [link](./results/atari_hard/montezuma_revenge/cndsa_2_3_4_notes.md) |\n",
    "| ppo_cndsa_4_* | int reward scaling               | vicreg loss, 1.0, aug [\"pixelate\", \"random_tiles\", \"noise\"]             |  done 3 |  N/A | [link](./results/atari_hard/montezuma_revenge/cndsa_2_3_4_notes.md) |\n",
    "| ppo_cndsa_5_* | advantages variance normalisation, beta_var=0.99 | vicreg loss, 0.25, aug [\"pixelate\", \"random_tiles\", \"noise\"]             |  done 3  |  N/A | [link](./results/atari_hard/montezuma_revenge/cndsa_5_6_7_notes.md) |\n",
    "| ppo_cndsa_6_* | advantages variance normalisation, beta_var=0.99 | vicreg loss, 0.5, aug [\"pixelate\", \"random_tiles\", \"noise\"]             |  done 3 |  N/A |  [link](./results/atari_hard/montezuma_revenge/cndsa_5_6_7_notes.md) |\n",
    "| ppo_cndsa_7_* | advantages variance normalisation, beta_var=0.99 | vicreg loss, 1.0, aug [\"pixelate\", \"random_tiles\", \"noise\"]             |  done 3 |  N/A |  [link](./results/atari_hard/montezuma_revenge/cndsa_5_6_7_notes.md) |\n",
    "| ppo_cndsa_8_* | advantages variance normalisation + augmentations, beta_var=0.99 | vicreg loss, 0.25, aug [\"random_tiles\", \"noise\"]             |  design  |  N/A |  N/A |\n",
    "| ppo_cndsa_9_* | advantages variance normalisation + augmentations, beta_var=0.99 | vicreg loss, 0.5, aug [\"random_tiles\", \"noise\"]             |  design  |  N/A |  N/A |\n",
    "| ppo_cndsa_10_* | 128M steps | as ppo_cndsa_3_*, c = 0.25            |  running k  |  N/A |  N/A |\n",
    "| ppo_cndsa_11_* | 128M steps | as ppo_cndsa_2_*, c = 0.5            |  running k  |  N/A |  N/A |\n",
    "| ppo_cndsa_12_* | 128M steps | as ppo_cndsa_5_*, c = 0.25            |  running k  |  N/A |  N/A |\n",
    "| ppo_cndsa_13_* | 128M steps | as ppo_cndsa_6_*, c = 0.5            |  running k  |  N/A |  N/A |\n"
   ]
  },
  {
   "attachments": {},
   "cell_type": "markdown",
   "metadata": {},
   "source": [
    "| name                  | input         | normalisation | hierarchy | model     | result    | detail |\n",
    "| --------------------- | ------------- | ------------- | --------- | --------- | --------- | ------ |\n",
    "| ppo_snd_hierarchy_0   | 4x grayscale  | false         | [0]       | cnn       | done      | N/A    |\n",
    "| ppo_snd_hierarchy_1   | 4x grayscale  | false         | [1]       | cnn       | N/A       | N/A    |\n",
    "| ppo_snd_hierarchy_2   | 4x grayscale  | false         | [4]       | cnn       | N/A       | N/A    |\n",
    "| ppo_snd_hierarchy_3   | 4x grayscale  | true          | [0]       | cnn       | N/A       | N/A    |\n",
    "| ppo_snd_hierarchy_4   | 4x grayscale  | true          | [1]       | cnn       | N/A       | N/A    |\n",
    "| ppo_snd_hierarchy_5   | 4x grayscale  | true          | [4]       | cnn       | N/A       | N/A    |\n",
    "| ppo_snd_hierarchy_6   | 4x grayscale  | true          | [0, 4]    | cnn       | N/A       | N/A    |\n",
    "| ppo_snd_hierarchy_7   | 4x grayscale  | true          | [0, 4, 16]| cnn       | N/A       | N/A    |\n",
    "| ppo_snd_hierarchy_8   | 4x RGB        | true          | [0]       | cnn       | N/A       | N/A    |\n",
    "| ppo_snd_hierarchy_9   | 4x RGB        | true          | [0, 4]    | cnn       | N/A       | N/A    |\n",
    "| ppo_snd_hierarchy_10  | 4x RGB        | true          | [0, 4, 16]| cnn       | N/A       | N/A    |\n",
    "| ppo_snd_hierarchy_11  | 4x RGB        | true          | [0]       | resnet8   | N/A       | N/A    |\n",
    "| ppo_snd_hierarchy_12  | 4x RGB        | true          | [0, 4]    | resnet8   | N/A       | N/A    |\n",
    "| ppo_snd_hierarchy_13  | 4x RGB        | true          | [0, 4, 16]| resnet8   | N/A       | N/A    |"
   ]
  },
  {
   "cell_type": "markdown",
   "metadata": {},
   "source": [
    "| name          | input         |  distances | loss             |int_a_coeff  | int_b_coeff   |result     | link  |\n",
    "| --------------| ------------- |  --------- | ---------------- |------------ | ------------- | --------- | ----- |\n",
    "| ppo_snd_ca_0  | 4x grayscale  | [0]        | vicreg           |0.5          | 0.0           | N/A       |       |\n",
    "| ppo_snd_ca_1  | 4x grayscale  | [1]        | vicreg           |0.5          | 0.0           | N/A       |       |\n",
    "| ppo_snd_ca_2  | 4x grayscale  | [4]        | vicreg           |0.5          | 0.0           | N/A       |       |\n",
    "| ppo_snd_ca_3  | 4x grayscale  | [8]        | vicreg           |0.5          | 0.0           | N/A       |       |\n",
    "| ppo_snd_ca_4  | 4x grayscale  | [4]        | vicreg           |0.5          | 0.001         | N/A       |       |\n",
    "| ppo_snd_ca_5  | 4x grayscale  | [4]        | vicreg           |0.5          | 0.01          | N/A       |       |\n",
    "| ppo_snd_ca_6  | 4x RGB        | [4]        | vicreg           |0.5          | 0.01          | N/A       |       |\n",
    "| ppo_snd_ca_7  | 4x RGB        | [8]        | vicreg           |0.5          | 0.01          | N/A       |       |\n",
    "| ppo_snd_ca_8  | 4x grayscale  | [4]        | vicreg+spatial   |0.5          | 0.0           | N/A       |       |\n",
    "| ppo_snd_ca_9  | 4x grayscale  | [4]        | vicreg+spatial   |0.5          | 0.001         | N/A       |       |\n",
    "| ppo_snd_ca_10 | 4x grayscale  | [4]        | vicreg+spatial   |0.5          | 0.01          | N/A       |       |\n"
   ]
  },
  {
   "attachments": {},
   "cell_type": "markdown",
   "metadata": {},
   "source": [
    "install : \n",
    "```bash\n",
    "pip3 install \"gymnasium[all]\"\n",
    "pip3 install \"gymnasium[accept-rom-license]\"\n",
    "```\n"
   ]
  },
  {
   "cell_type": "markdown",
   "metadata": {},
   "source": [
    "| name          | distance  | ppo_loss | target_loss | sa_loss| int_a   | int_b   |result | link          |\n",
    "| --------------| --------- | ------------- | ------------- |------ | ------------- |\n",
    "| ppo_snd_ca_0  | 0             |"
   ]
  }
 ],
 "metadata": {
  "kernelspec": {
   "display_name": "Python 3",
   "language": "python",
   "name": "python3"
  },
  "language_info": {
   "name": "python",
   "version": "3.9.16"
  },
  "orig_nbformat": 4,
  "vscode": {
   "interpreter": {
    "hash": "aee8b7b246df8f9039afb4144a1f6fd8d2ca17a180786b69acc140d282b71a49"
   }
  }
 },
 "nbformat": 4,
 "nbformat_minor": 2
}
