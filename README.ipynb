{
 "cells": [
  {
   "attachments": {},
   "cell_type": "markdown",
   "metadata": {},
   "source": [
    "hard exploration experiments, using self supervised models distillation "
   ]
  },
  {
   "attachments": {},
   "cell_type": "markdown",
   "metadata": {},
   "source": [
    "![model_ppo](doc/diagrams/cnd-cnd.png \"self supervised distillation\")"
   ]
  },
  {
   "attachments": {},
   "cell_type": "markdown",
   "metadata": {},
   "source": [
    "models uses 4x96x96 input (4 grayscale frames stacked) "
   ]
  },
  {
   "attachments": {},
   "cell_type": "markdown",
   "metadata": {},
   "source": [
    "![model_ppo](doc/diagrams/cnd-ppo_model.png \"ppo model architecture\")"
   ]
  },
  {
   "attachments": {},
   "cell_type": "markdown",
   "metadata": {},
   "source": [
    "# montezuma results\n",
    "**experiments/atari_hard/montezuma_revenge/**\n",
    "\n",
    "\n",
    "| name          | group         | description   | state     |   result  | detail |\n",
    "| ------------- | ------------- | ------------- | --------- | --------- | -----|\n",
    "| ppo_cndsa_0_* | augmentations testing              | vicreg loss, 0.5, aug [\"noise\"]             |  done 3 |  N/A | [link](./results/atari_hard/montezuma_revenge/cndsa_0_1_2_notes.md)\n",
    "| ppo_cndsa_1_* | augmentations testing              | vicreg loss, 0.5, aug [\"random_tiles\", \"noise\"]             |  done 3 |  N/A | [link](./results/atari_hard/montezuma_revenge/cndsa_0_1_2_notes.md) |\n",
    "| ppo_cndsa_2_* | augmentations testing              | vicreg loss, 0.5, aug [\"pixelate\", \"random_tiles\", \"noise\"]             |  done 3 |  N/A | [link](./results/atari_hard/montezuma_revenge/cndsa_0_1_2_notes.md) |\n",
    "| ppo_cndsa_3_* | int reward scaling               | vicreg loss, 0.25, aug [\"pixelate\", \"random_tiles\", \"noise\"]             |  done 3 |  N/A | [link](./results/atari_hard/montezuma_revenge/cndsa_2_3_4_notes.md) |\n",
    "| ppo_cndsa_4_* | int reward scaling               | vicreg loss, 1.0, aug [\"pixelate\", \"random_tiles\", \"noise\"]             |  done 3 |  N/A | [link](./results/atari_hard/montezuma_revenge/cndsa_2_3_4_notes.md) |\n",
    "| ppo_cndsa_5_* | advantages variance normalisation, beta_var=0.99 | vicreg loss, 0.25, aug [\"pixelate\", \"random_tiles\", \"noise\"]             |  done 3  |  N/A | [link](./results/atari_hard/montezuma_revenge/cndsa_5_6_7_notes.md) |\n",
    "| ppo_cndsa_6_* | advantages variance normalisation, beta_var=0.99 | vicreg loss, 0.5, aug [\"pixelate\", \"random_tiles\", \"noise\"]             |  done 3 |  N/A |  [link](./results/atari_hard/montezuma_revenge/cndsa_5_6_7_notes.md) |\n",
    "| ppo_cndsa_7_* | advantages variance normalisation, beta_var=0.99 | vicreg loss, 1.0, aug [\"pixelate\", \"random_tiles\", \"noise\"]             |  done 3 |  N/A |  [link](./results/atari_hard/montezuma_revenge/cndsa_5_6_7_notes.md) |\n",
    "| ppo_cndsa_8_* | advantages variance normalisation + augmentations, beta_var=0.99 | vicreg loss, 0.25, aug [\"random_tiles\", \"noise\"]             |  design  |  N/A |  N/A |\n",
    "| ppo_cndsa_9_* | advantages variance normalisation + augmentations, beta_var=0.99 | vicreg loss, 0.5, aug [\"random_tiles\", \"noise\"]             |  design  |  N/A |  N/A |\n",
    "| ppo_cndsa_10_* | 128M steps | as ppo_cndsa_3_*, c = 0.25            |  running k  |  N/A |  N/A |\n",
    "| ppo_cndsa_11_* | 128M steps | as ppo_cndsa_2_*, c = 0.5            |  running k  |  N/A |  N/A |\n",
    "| ppo_cndsa_12_* | 128M steps | as ppo_cndsa_5_*, c = 0.25            |  running k  |  N/A |  N/A |\n",
    "| ppo_cndsa_13_* | 128M steps | as ppo_cndsa_6_*, c = 0.5            |  running k  |  N/A |  N/A |\n"
   ]
  },
  {
   "attachments": {},
   "cell_type": "markdown",
   "metadata": {},
   "source": []
  }
 ],
 "metadata": {
  "kernelspec": {
   "display_name": "Python 3",
   "language": "python",
   "name": "python3"
  },
  "language_info": {
   "name": "python",
   "version": "3.9.16"
  },
  "orig_nbformat": 4,
  "vscode": {
   "interpreter": {
    "hash": "aee8b7b246df8f9039afb4144a1f6fd8d2ca17a180786b69acc140d282b71a49"
   }
  }
 },
 "nbformat": 4,
 "nbformat_minor": 2
}
